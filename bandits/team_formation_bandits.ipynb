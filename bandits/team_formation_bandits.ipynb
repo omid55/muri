{
 "cells": [
  {
   "cell_type": "code",
   "execution_count": null,
   "metadata": {
    "collapsed": true
   },
   "outputs": [],
   "source": []
  },
  {
   "cell_type": "code",
   "execution_count": 1,
   "metadata": {
    "collapsed": true
   },
   "outputs": [],
   "source": [
    "# Omid55\n",
    "import numpy as np\n",
    "import random as rand\n",
    "import scipy.stats as stat\n",
    "import math\n",
    "import itertools as itt\n",
    "import collections"
   ]
  },
  {
   "cell_type": "code",
   "execution_count": null,
   "metadata": {
    "collapsed": true
   },
   "outputs": [],
   "source": []
  },
  {
   "cell_type": "code",
   "execution_count": 21,
   "metadata": {
    "collapsed": false
   },
   "outputs": [],
   "source": [
    "'''Problem class'''\n",
    "class Problem:\n",
    "    # npeople\n",
    "    # weights\n",
    "    # team_size\n",
    "    # optimal_team\n",
    "    \n",
    "    def __init__(self, npeople, team_size):\n",
    "        self.npeople = npeople\n",
    "        self.team_size = team_size\n",
    "        self.all_possible_teams = list(itt.combinations(range(0, self.npeople), self.team_size))\n",
    "        self.weights = np.random.rand(npeople, npeople)\n",
    "        self.weights = np.maximum(self.weights, self.weights.transpose())\n",
    "        np.fill_diagonal(self.weights, 0)\n",
    "        self.optimal_team = []\n",
    "        self.STOCHASTICITY = 0.05\n",
    "        \n",
    "    def set_weights(self, weights):\n",
    "        self.weights = weights\n",
    "\n",
    "    def pull_arm(self, team):    # objective (fitness) function\n",
    "        assert len(team) == self.team_size, 'team size should not be different than ' + self.team_size + ' .'\n",
    "        prob = (1-self.STOCHASTICITY) * self.compute_value_of_team(team) / self.compute_value_of_team(self.optimal_team)\n",
    "        return stat.binom.rvs(1, prob)\n",
    "\n",
    "    def compute_value_of_team(self, team):\n",
    "        w = 0\n",
    "        for i in range(0, len(team)-1):\n",
    "            for j in range(i+1, len(team)):\n",
    "                w += self.weights[team[i]][team[j]]\n",
    "        return w"
   ]
  },
  {
   "cell_type": "code",
   "execution_count": null,
   "metadata": {
    "collapsed": true
   },
   "outputs": [],
   "source": []
  }
 ],
 "metadata": {
  "kernelspec": {
   "display_name": "Python 3",
   "language": "python",
   "name": "python3"
  },
  "language_info": {
   "codemirror_mode": {
    "name": "ipython",
    "version": 3
   },
   "file_extension": ".py",
   "mimetype": "text/x-python",
   "name": "python",
   "nbconvert_exporter": "python",
   "pygments_lexer": "ipython3",
   "version": "3.4.3"
  }
 },
 "nbformat": 4,
 "nbformat_minor": 0
}
